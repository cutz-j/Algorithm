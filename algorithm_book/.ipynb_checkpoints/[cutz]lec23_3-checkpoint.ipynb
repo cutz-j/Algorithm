{
 "cells": [
  {
   "cell_type": "code",
   "execution_count": 150,
   "metadata": {},
   "outputs": [
    {
     "ename": "SyntaxError",
     "evalue": "invalid syntax (<ipython-input-150-2d7542359de6>, line 62)",
     "output_type": "error",
     "traceback": [
      "\u001b[1;36m  File \u001b[1;32m\"<ipython-input-150-2d7542359de6>\"\u001b[1;36m, line \u001b[1;32m62\u001b[0m\n\u001b[1;33m    if self.min_heap[r] > self.min_heap[left_child] and < self.min_heap[right_child]:\u001b[0m\n\u001b[1;37m                                                        ^\u001b[0m\n\u001b[1;31mSyntaxError\u001b[0m\u001b[1;31m:\u001b[0m invalid syntax\n"
     ]
    }
   ],
   "source": [
    "class Heap:\n",
    "    def __init__(self, a, b):\n",
    "        self.min_heap = []\n",
    "        self.max_heap = [1983]\n",
    "        self.a = a\n",
    "        self.b = b\n",
    "        self.min_length = 0\n",
    "        self.max_length = 1\n",
    "        self.past = 1983\n",
    "    \n",
    "    def insert(self, value):\n",
    "        self.past = value\n",
    "        if value < self.max_heap[0]:\n",
    "            self.max_insert(value)\n",
    "        else:\n",
    "            self.min_insert(value)\n",
    "        \n",
    "        # maxheap length는 항상 min heap보다 같거나 +1\n",
    "        if self.max_length < self.min_length:\n",
    "            del_value = self.min_delete()\n",
    "            self.max_insert(del_value)\n",
    "        # maxheap length가 min heap의 +1보다 크다면, min heap으로\n",
    "        elif self.max_length > self.min_length+1:\n",
    "            del_value = self.max_delete()\n",
    "            self.min_insert(del_value)\n",
    "    \n",
    "    def min_insert(self, value):\n",
    "            i = self.min_length - 1 # last index\n",
    "            self.min_heap.append(value)\n",
    "            self.min_length += 1\n",
    "            while i > 1: # last index 까지\n",
    "                parent = self.parent(i) # index i의 parent node\n",
    "                if self.min_heap[i] < self.min_heap[parent]: # index i가 부모 노드보다 작다면 change\n",
    "                    self.min_heap[i], self.min_heap[parent] = self.min_heap[parent], self.min_heap[i]\n",
    "                    i = parent\n",
    "                else: # 크다면 break\n",
    "                    break\n",
    "            \n",
    "        \n",
    "    def max_insert(self, value):\n",
    "        i = self.max_length - 1\n",
    "        self.max_length += 1\n",
    "        self.max_heap.append(value)\n",
    "        while i > 1:\n",
    "            parent = self.parent(i)\n",
    "            if self.max_heap[i] > self.max_heap[parent]:\n",
    "                self.max_heap[i], self.max_heap[parent] = self.max_heap[parent], self.max_heap[i]\n",
    "                i = parent\n",
    "            else:\n",
    "                break\n",
    "            \n",
    "    \n",
    "    def min_delete(self):\n",
    "        i = self.min_length - 1\n",
    "        r = 0\n",
    "        self.min_heap[r], self.min_heap[i] = self.min_heap[i], self.min_heap[r]\n",
    "        pop = self.min_heap.pop(i)\n",
    "        self.min_length -= 1\n",
    "        while r < self.min_length:\n",
    "            left_chlid = self.left_child(r)\n",
    "            right_child = self.right_chiled(r)\n",
    "            if self.min_heap[r] > self.min_heap[left_child]:\n",
    "                self.min_heap[r], self.min_heap[left_child] = self.min_heap[left_child], self.min_heap[right_child]\n",
    "                r = left_child\n",
    "            elif self.min_heap[r] > self.min_heap[right_child]:\n",
    "                self.min_heap[r], self.min_heap[right_child] = self.min_heap[right_child], self.min_heap[r]\n",
    "                r = right_child\n",
    "            else:\n",
    "                break\n",
    "            \n",
    "    \n",
    "    def max_delete(self):\n",
    "        self.max_length -= 1\n",
    "        return self.max_heap.pop(0)\n",
    "    \n",
    "        \n",
    "    def parent(self, index):\n",
    "        return int((index-1)/2)\n",
    "    \n",
    "    def left_child(self, index):\n",
    "        return int((2*index)+1)\n",
    "    \n",
    "    def right_child(self, index):\n",
    "        return int((2*index)+2)\n",
    "    \n",
    "    def next_(self):\n",
    "        return (self.past*self.a+self.b) % 20090711\n",
    "    \n",
    "    def median(self):\n",
    "        return self.max_heap[0]"
   ]
  },
  {
   "cell_type": "code",
   "execution_count": 143,
   "metadata": {},
   "outputs": [],
   "source": [
    "c, a, b = 10, 1, 1\n",
    "heap = Heap(a, b)"
   ]
  },
  {
   "cell_type": "code",
   "execution_count": 144,
   "metadata": {},
   "outputs": [
    {
     "name": "stdout",
     "output_type": "stream",
     "text": [
      "1983 [1983] [1984]\n",
      "1983 [1983, 1984] [1985]\n",
      "1983 [1983, 1984] [1985, 1986]\n",
      "1983 [1983, 1984, 1985] [1986, 1987]\n",
      "1983 [1983, 1984, 1985] [1986, 1987, 1988]\n",
      "1985 [1985, 1984, 1983, 1986] [1987, 1988, 1989]\n",
      "1985 [1985, 1984, 1983, 1986] [1987, 1988, 1989, 1990]\n",
      "1985 [1985, 1986, 1983, 1984, 1987] [1988, 1989, 1990, 1991]\n",
      "1985 [1985, 1986, 1983, 1984, 1987] [1988, 1989, 1990, 1991, 1992]\n",
      "1985 [1985, 1987, 1983, 1984, 1986, 1988] [1989, 1990, 1991, 1992, 1993]\n"
     ]
    }
   ],
   "source": [
    "m = 0\n",
    "for i in range(c):\n",
    "    heap.insert(heap.next_())\n",
    "    m += heap.median()\n",
    "    print(heap.median(), heap.max_heap, heap.min_heap)"
   ]
  },
  {
   "cell_type": "code",
   "execution_count": 138,
   "metadata": {},
   "outputs": [
    {
     "data": {
      "text/plain": [
       "19830"
      ]
     },
     "execution_count": 138,
     "metadata": {},
     "output_type": "execute_result"
    }
   ],
   "source": [
    "m % 20090711"
   ]
  },
  {
   "cell_type": "code",
   "execution_count": 122,
   "metadata": {},
   "outputs": [
    {
     "data": {
      "text/plain": [
       "(10, 1)"
      ]
     },
     "execution_count": 122,
     "metadata": {},
     "output_type": "execute_result"
    }
   ],
   "source": [
    "c, a, "
   ]
  },
  {
   "cell_type": "code",
   "execution_count": 133,
   "metadata": {},
   "outputs": [
    {
     "data": {
      "text/plain": [
       "[1985, 1987, 1983, 1984, 1986, 1988]"
      ]
     },
     "execution_count": 133,
     "metadata": {},
     "output_type": "execute_result"
    }
   ],
   "source": [
    "heap.max_heap"
   ]
  },
  {
   "cell_type": "code",
   "execution_count": 145,
   "metadata": {},
   "outputs": [],
   "source": [
    "heap.min_heap = heap.max_heap"
   ]
  },
  {
   "cell_type": "code",
   "execution_count": 147,
   "metadata": {},
   "outputs": [
    {
     "data": {
      "text/plain": [
       "1985"
      ]
     },
     "execution_count": 147,
     "metadata": {},
     "output_type": "execute_result"
    }
   ],
   "source": [
    "heap.min_delete()"
   ]
  },
  {
   "cell_type": "code",
   "execution_count": 151,
   "metadata": {},
   "outputs": [],
   "source": [
    "heap.min_heap = [5,4,3,2,1]"
   ]
  },
  {
   "cell_type": "code",
   "execution_count": 152,
   "metadata": {},
   "outputs": [
    {
     "data": {
      "text/plain": [
       "5"
      ]
     },
     "execution_count": 152,
     "metadata": {},
     "output_type": "execute_result"
    }
   ],
   "source": [
    "heap.min_delete()"
   ]
  },
  {
   "cell_type": "code",
   "execution_count": 153,
   "metadata": {},
   "outputs": [
    {
     "data": {
      "text/plain": [
       "[4, 3, 2, 1]"
      ]
     },
     "execution_count": 153,
     "metadata": {},
     "output_type": "execute_result"
    }
   ],
   "source": [
    "heap.min_heap"
   ]
  }
 ],
 "metadata": {
  "kernelspec": {
   "display_name": "Python 3",
   "language": "python",
   "name": "python3"
  },
  "language_info": {
   "codemirror_mode": {
    "name": "ipython",
    "version": 3
   },
   "file_extension": ".py",
   "mimetype": "text/x-python",
   "name": "python",
   "nbconvert_exporter": "python",
   "pygments_lexer": "ipython3",
   "version": "3.7.3"
  }
 },
 "nbformat": 4,
 "nbformat_minor": 2
}
